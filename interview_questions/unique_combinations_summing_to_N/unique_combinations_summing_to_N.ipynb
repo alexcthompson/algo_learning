{
 "cells": [
  {
   "cell_type": "code",
   "execution_count": 1,
   "metadata": {
    "collapsed": true
   },
   "outputs": [],
   "source": [
    "memoized_solutions = {}\n",
    "\n",
    "def sums_list(nums_in, target):\n",
    "    '''\n",
    "    idea: if [x_0, x_1, ... x_n] is nums, the each solution is a unique vector\n",
    "    of integers [k_0, k_1, ... k_n] where k_0*x_0 + k_1*x_1 + ... k_n*x_n\n",
    "    Try only reasonable values of k_i and build viable initial segments by not\n",
    "    repeating tests.\n",
    "    '''\n",
    "    nums = tuple(nums_in)  # to support hashing, convert list to tuple\n",
    "\n",
    "    if (nums, target) in memoized_solutions:\n",
    "        return memoized_solutions[(nums, target)]\n",
    "    \n",
    "    solutions = set()\n",
    "    \n",
    "    if target == 0 or len(nums) == 0:\n",
    "        pass\n",
    "    \n",
    "    else:\n",
    "        # we are in the dynamic case, try powers of nums[0]\n",
    "        for i in range(1 + target // nums[0]):\n",
    "            if nums[0] * i == target:\n",
    "                solutions |= {(nums[0],) * i}\n",
    "            \n",
    "            else:\n",
    "                partial_solutions = sums_list(nums[1:], target - i * nums[0])\n",
    "                new_solutions = {(nums[0],) * i + p for p in partial_solutions}\n",
    "                solutions |= new_solutions\n",
    "    \n",
    "    memoized_solutions[(nums, target)] = solutions\n",
    "    \n",
    "    return solutions"
   ]
  },
  {
   "cell_type": "code",
   "execution_count": 4,
   "metadata": {},
   "outputs": [
    {
     "name": "stderr",
     "output_type": "stream",
     "text": [
      ".\n",
      "----------------------------------------------------------------------\n",
      "Ran 1 test in 0.003s\n",
      "\n",
      "OK\n"
     ]
    }
   ],
   "source": [
    "import unittest\n",
    "\n",
    "class Tests(unittest.TestCase):\n",
    "    \n",
    "    def test_examples(self):\n",
    "        nums, target = ([2,4], 6)\n",
    "        solution = {(2, 2, 2), (2, 4)}\n",
    "        self.assertEqual(sums_list(nums, target), solution)\n",
    "        \n",
    "        nums, target = ([2,3,6,7], 7)\n",
    "        solution = {(7,), (2, 2, 3)}\n",
    "        self.assertEqual(sums_list(nums, target), solution)\n",
    "        \n",
    "        nums, target = ([2,5,10], 20)\n",
    "        solution = {(2, 2, 2, 2, 2, 10), (2, 2, 2, 2, 2, 5, 5), (10, 10),\n",
    "                    (5, 5, 5, 5), (2, 2, 2, 2, 2, 2, 2, 2, 2, 2), (5, 5, 10)}\n",
    "        self.assertEqual(sums_list(nums, target), solution)\n",
    "        \n",
    "        nums, target = ([314,122], 314)\n",
    "        solution = {(314,)}\n",
    "        self.assertEqual(sums_list(nums, target), solution)\n",
    "        \n",
    "        nums, target = ((7,3), 8)\n",
    "        solution = set()\n",
    "        self.assertEqual(sums_list(nums, target), solution)\n",
    "        \n",
    "        nums, target = ([1,2,3], 0)\n",
    "        solution = set()\n",
    "        self.assertEqual(sums_list(nums, target), solution)\n",
    "\n",
    "\n",
    "if __name__ == \"__main__\":\n",
    "    unittest.main(argv=['first-arg-is-ignored'], exit=False)"
   ]
  }
 ],
 "metadata": {
  "kernelspec": {
   "display_name": "Python 3",
   "language": "python",
   "name": "python3"
  },
  "language_info": {
   "codemirror_mode": {
    "name": "ipython",
    "version": 3
   },
   "file_extension": ".py",
   "mimetype": "text/x-python",
   "name": "python",
   "nbconvert_exporter": "python",
   "pygments_lexer": "ipython3",
   "version": "3.6.1"
  }
 },
 "nbformat": 4,
 "nbformat_minor": 2
}
