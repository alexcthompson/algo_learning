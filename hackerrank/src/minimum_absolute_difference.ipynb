{
 "cells": [
  {
   "cell_type": "code",
   "execution_count": 8,
   "metadata": {},
   "outputs": [],
   "source": [
    "'''\n",
    "Given an array, find the minimum absolute difference between two elements in the array\n",
    "From HackerRank: https://www.hackerrank.com/challenges/minimum-absolute-difference-in-an-array/problem\n",
    "'''\n",
    "\n",
    "import math\n",
    "import os\n",
    "import random\n",
    "import re\n",
    "import sys\n",
    "\n",
    "# Complete the minimumAbsoluteDifference function below.\n",
    "def minimumAbsoluteDifference(arr):\n",
    "    arr.sort()\n",
    "    \n",
    "    return min([abs(s[0] - s[1]) for s in zip(arr, arr[1:])])"
   ]
  },
  {
   "cell_type": "code",
   "execution_count": 9,
   "metadata": {},
   "outputs": [
    {
     "name": "stderr",
     "output_type": "stream",
     "text": [
      ".\n",
      "----------------------------------------------------------------------\n",
      "Ran 1 test in 0.001s\n",
      "\n",
      "OK\n"
     ]
    }
   ],
   "source": [
    "import unittest\n",
    "\n",
    "class testing_123(unittest.TestCase):\n",
    "    \n",
    "    def test_examples(self):\n",
    "        self.assertEqual(minimumAbsoluteDifference([3, -7, 0]), 3)\n",
    "        self.assertEqual(minimumAbsoluteDifference([-59, -36, -13, 1, -53, -92, -2, -96, -54, 75]), 1)\n",
    "        self.assertEqual(minimumAbsoluteDifference([1, -3, 71, 68, 17]), 3)\n",
    "        \n",
    "        \n",
    "if __name__ == \"__main__\":\n",
    "    unittest.main(argv=['first-arg-is-ignored'], exit=False)"
   ]
  }
 ],
 "metadata": {
  "kernelspec": {
   "display_name": "Python 3",
   "language": "python",
   "name": "python3"
  },
  "language_info": {
   "codemirror_mode": {
    "name": "ipython",
    "version": 3
   },
   "file_extension": ".py",
   "mimetype": "text/x-python",
   "name": "python",
   "nbconvert_exporter": "python",
   "pygments_lexer": "ipython3",
   "version": "3.6.1"
  }
 },
 "nbformat": 4,
 "nbformat_minor": 2
}
