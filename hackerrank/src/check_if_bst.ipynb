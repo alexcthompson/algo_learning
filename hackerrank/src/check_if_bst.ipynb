{
 "cells": [
  {
   "cell_type": "code",
   "execution_count": 1,
   "metadata": {
    "collapsed": true
   },
   "outputs": [],
   "source": [
    "\"\"\"\n",
    "Given a tree, check if it is a BST\n",
    "\n",
    "Node is defined as\n",
    "class node:\n",
    "    def __init__(self, data):\n",
    "        self.data = data\n",
    "        self.left = None\n",
    "        self.right = None\n",
    "        \n",
    "HackerRank: https://www.hackerrank.com/challenges/ctci-is-binary-search-tree/problem\n",
    "\"\"\"\n",
    "\n",
    "def bst_min_max_valid(root):\n",
    "    t_min = root.data\n",
    "    t_max = root.data\n",
    "\n",
    "    # left side\n",
    "    if root.left is not None:\n",
    "        lt_min, lt_max, left_ok = bst_min_max_valid(root.left)\n",
    "        \n",
    "        if not left_ok:\n",
    "            return 0,0, False\n",
    "        elif lt_max >= root.data:\n",
    "            return 0,0, False\n",
    "\n",
    "        t_min = lt_min\n",
    "    \n",
    "    # right side\n",
    "    if root.right is not None:\n",
    "        rt_min, rt_max, right_ok = bst_min_max_valid(root.right)\n",
    "        \n",
    "        if not right_ok:\n",
    "            return 0,0, False\n",
    "        elif rt_min <= root.data:\n",
    "            return 0,0, False\n",
    "\n",
    "        t_max = rt_max\n",
    "        \n",
    "    \n",
    "    return t_min, t_max, True\n",
    "        \n",
    "\n",
    "def checkBST(root):\n",
    "    return bst_min_max_valid(root)[2]"
   ]
  }
 ],
 "metadata": {
  "kernelspec": {
   "display_name": "Python 3",
   "language": "python",
   "name": "python3"
  },
  "language_info": {
   "codemirror_mode": {
    "name": "ipython",
    "version": 3
   },
   "file_extension": ".py",
   "mimetype": "text/x-python",
   "name": "python",
   "nbconvert_exporter": "python",
   "pygments_lexer": "ipython3",
   "version": "3.6.1"
  }
 },
 "nbformat": 4,
 "nbformat_minor": 2
}
