{
 "cells": [
  {
   "cell_type": "markdown",
   "metadata": {},
   "source": [
    "# [HackerRank: Find the Max Sum for Non-Adjacent Subarrays](https://www.hackerrank.com/challenges/max-array-sum/problem?)\n",
    "\n",
    "Given an array of integers, find the subset of non-adjacent elements with the maximum sum. Calculate the sum of that subset.\n",
    "\n",
    "For example, given an array `[-2, 1, 3, -4, 5]`, we have the following possible subsets:\n",
    "```\n",
    "Subset      Sum\n",
    "[-2, 3, 5]   6\n",
    "[-2, 3]      1\n",
    "[-2, -4]    -6\n",
    "[-2, 5]      3\n",
    "[1, -4]     -3\n",
    "[1, 5]       6\n",
    "[3, 5]       8\n",
    "```\n",
    "Our maximum subset sum is `8`."
   ]
  },
  {
   "cell_type": "markdown",
   "metadata": {},
   "source": [
    "# Solution:\n",
    "\n",
    "Given an array $A = \\{a_0, \\ldots, a_{n-1}\\}$ and define $A_i$ as:\n",
    "\n",
    "$$A_i = \\{a_j \\mid j \\leq i\\}$$\n",
    "\n",
    "Let $\\text{max_nas}$ be the function that gives the maximum sum of non-adjacent subsets of $A$:\n",
    "\n",
    "$$\\text{max_nas}(A) = \\text{max} (\\{ S \\mid S \\subseteq A \\text{ and S non-empty, and does not contain adjacent elements}\\})$$\n",
    "\n",
    "The non-adjacent subsets are all in one of the following forms:\n",
    "\n",
    "1. $\\{a_{n-1}\\}$\n",
    "2. $\\{a_{n-1}\\} \\cup S$ where $S$ is a non-adjacent subset of $\\{a_0, \\ldots, a_{n-3}\\}$ (guaranteeing that $a_{n-1}$ is not adjacent to anything in $S$.)\n",
    "3. $S$ a non-adjacent subset of $\\{a_0, \\ldots, a_{n-2}\\}$.\n",
    "\n",
    "Note that these three, as written, are not mutually exclusive.\n",
    "\n",
    "Given this, we can rewrite $\\text{math_nas}$ as:\n",
    "\n",
    "$$\\text{max_nas}(A) = \\text{max}(\\{a_{n-1}\\}, \\{a_{n-1}\\} + \\text{max_nas}(A_{n-3}), \\text{max_nas}(A_{n-2}))$$\n",
    "\n",
    "If you then define $M_i$ as:\n",
    "\n",
    "$$M_i = \\text{max_nas}(A_i)$$\n",
    "\n",
    "Then we have the recurrence relation:\n",
    "\n",
    "$$M_i = \\text{max}(a_i, a_i + M_{i-2}, M_{i-1})$$\n",
    "\n",
    "with:\n",
    "\n",
    "$$M_{n-1} = \\text{max_nas}(A)$$.\n",
    "\n",
    "And since we know the basecases:\n",
    "\n",
    "$$\\begin{align} M_0 &= a_0 \\\\ M_1 &= \\text{max}(a_0, a_1) \\end{align}$$\n",
    "\n",
    "We can now compute the recurrence relation in linear time, which is optimal (since we must visit all elements at least once.)"
   ]
  },
  {
   "cell_type": "code",
   "execution_count": 1,
   "metadata": {
    "collapsed": true
   },
   "outputs": [],
   "source": [
    "import math\n",
    "import os\n",
    "import random\n",
    "import re\n",
    "import sys\n",
    "\n",
    "# Complete the maxSubsetSum function below.\n",
    "def maxSubsetSum(arr):\n",
    "    if len(arr) == 1:\n",
    "        return arr[0]\n",
    "    elif len(arr) == 2:\n",
    "        return max(arr[0], arr[1])\n",
    "    \n",
    "    subres = []\n",
    "    subres.append(arr[0])\n",
    "    subres.append(max(arr[0], arr[1]))\n",
    "    \n",
    "    for i in range(2, len(arr)):\n",
    "        new_max = max(arr[i], arr[i] + subres[i-2], subres[i-1])\n",
    "        subres.append(new_max)\n",
    "        \n",
    "    return subres[-1]"
   ]
  },
  {
   "cell_type": "code",
   "execution_count": 2,
   "metadata": {},
   "outputs": [
    {
     "name": "stderr",
     "output_type": "stream",
     "text": [
      ".\n",
      "----------------------------------------------------------------------\n",
      "Ran 1 test in 0.002s\n",
      "\n",
      "OK\n"
     ]
    }
   ],
   "source": [
    "import unittest\n",
    "\n",
    "\n",
    "class max_nas_tests(unittest.TestCase):\n",
    "    \n",
    "    def test_known_results(self):\n",
    "        self.assertEqual(maxSubsetSum([-4, 3, -2, 1, 1, 11]), 15)\n",
    "        self.assertEqual(maxSubsetSum([-2, 1, 3, -4, 5]), 8)\n",
    "        self.assertEqual(maxSubsetSum([3, 5, -7, 8, 10]), 15)\n",
    "        \n",
    "        \n",
    "        \n",
    "if __name__ == \"__main__\":\n",
    "    unittest.main(argv=['first-arg-is-ignored'], exit=False)"
   ]
  }
 ],
 "metadata": {
  "kernelspec": {
   "display_name": "Python 3",
   "language": "python",
   "name": "python3"
  },
  "language_info": {
   "codemirror_mode": {
    "name": "ipython",
    "version": 3
   },
   "file_extension": ".py",
   "mimetype": "text/x-python",
   "name": "python",
   "nbconvert_exporter": "python",
   "pygments_lexer": "ipython3",
   "version": "3.6.1"
  }
 },
 "nbformat": 4,
 "nbformat_minor": 2
}
