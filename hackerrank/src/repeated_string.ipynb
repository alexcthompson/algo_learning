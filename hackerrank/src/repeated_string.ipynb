{
 "cells": [
  {
   "cell_type": "code",
   "execution_count": 13,
   "metadata": {
    "collapsed": true
   },
   "outputs": [],
   "source": [
    "'''\n",
    "Lilah's repeated string, HackerRank problem found here:\n",
    "https://www.hackerrank.com/challenges/repeated-string/problem\n",
    "'''\n",
    "\n",
    "import math\n",
    "import os\n",
    "import random\n",
    "import re\n",
    "import sys\n",
    "\n",
    "# Complete the repeatedString function below.\n",
    "def repeatedString(s, n):\n",
    "    return s.count('a') * (n // len(s)) + s[0: n % len(s)].count('a')"
   ]
  },
  {
   "cell_type": "code",
   "execution_count": 14,
   "metadata": {},
   "outputs": [
    {
     "name": "stderr",
     "output_type": "stream",
     "text": [
      ".\n",
      "----------------------------------------------------------------------\n",
      "Ran 1 test in 0.003s\n",
      "\n",
      "OK\n"
     ]
    }
   ],
   "source": [
    "import unittest\n",
    "\n",
    "class rs_tests(unittest.TestCase):\n",
    "    \n",
    "    def test_examples(self):\n",
    "        self.assertEqual(repeatedString(\"aba\", 10), 7)\n",
    "        self.assertEqual(repeatedString(\"a\", 1000000000000), 1000000000000)\n",
    "        self.assertEqual(repeatedString(\"gfcaaaecbg\", 547602), 164280)\n",
    "        self.assertEqual(repeatedString(\"kmretasscityylpdhuwjirnqimlkcgxubxmsxpypgzxtenweirknjtasxtvxemtwxuarabssvqdnktqadhyktagjxoanknhgilnm\",\n",
    "                                        736778906400),\n",
    "                                        51574523448)\n",
    "        \n",
    "        \n",
    "if __name__ == \"__main__\":\n",
    "    unittest.main(argv=['first-arg-is-ignored'], exit=False)"
   ]
  },
  {
   "cell_type": "code",
   "execution_count": null,
   "metadata": {
    "collapsed": true
   },
   "outputs": [],
   "source": []
  }
 ],
 "metadata": {
  "kernelspec": {
   "display_name": "Python 3",
   "language": "python",
   "name": "python3"
  },
  "language_info": {
   "codemirror_mode": {
    "name": "ipython",
    "version": 3
   },
   "file_extension": ".py",
   "mimetype": "text/x-python",
   "name": "python",
   "nbconvert_exporter": "python",
   "pygments_lexer": "ipython3",
   "version": "3.6.1"
  }
 },
 "nbformat": 4,
 "nbformat_minor": 2
}
