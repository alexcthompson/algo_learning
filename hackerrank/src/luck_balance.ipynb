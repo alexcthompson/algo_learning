{
 "cells": [
  {
   "cell_type": "code",
   "execution_count": 1,
   "metadata": {},
   "outputs": [],
   "source": [
    "'''\n",
    "A greedy intro problem about \"saving luck\".\n",
    "Hackerrank: https://www.hackerrank.com/challenges/luck-balance/problem\n",
    "'''\n",
    "\n",
    "import heapq as h\n",
    "import math\n",
    "import os\n",
    "import random\n",
    "import re\n",
    "import sys\n",
    "\n",
    "# Complete the luckBalance function below.\n",
    "def luckBalance(k, contests):\n",
    "    '''\n",
    "    run through contests, losing unimportant contests and summing the luck\n",
    "    adding the important contests to a min heap according to whether they exceed\n",
    "    the smallest luck contest currently in the heap, and then lose all the constests\n",
    "    in the heap\n",
    "    '''\n",
    "    luck = 0\n",
    "    k_largest_luckimp = []\n",
    "    \n",
    "    if len(contests) <= k: return sum([t[0] for t in contests])\n",
    "\n",
    "    for contest_luck, important in contests:\n",
    "        if not important:\n",
    "            luck += contest_luck\n",
    "        else:\n",
    "            if k > 0 and len(k_largest_luckimp) == 0:\n",
    "                h.heappush(k_largest_luckimp, contest_luck)\n",
    "            elif len(k_largest_luckimp) < k:\n",
    "                h.heappush(k_largest_luckimp, contest_luck)\n",
    "            elif len(k_largest_luckimp) == k:\n",
    "                luck -= h.heappushpop(k_largest_luckimp, contest_luck)\n",
    "                \n",
    "    luck += sum(k_largest_luckimp)\n",
    "    \n",
    "    return luck"
   ]
  },
  {
   "cell_type": "code",
   "execution_count": 2,
   "metadata": {},
   "outputs": [
    {
     "name": "stderr",
     "output_type": "stream",
     "text": [
      ".\n",
      "----------------------------------------------------------------------\n",
      "Ran 1 test in 0.002s\n",
      "\n",
      "OK\n"
     ]
    }
   ],
   "source": [
    "import unittest\n",
    "\n",
    "class luck_tests(unittest.TestCase):\n",
    "    \n",
    "    def test_known_results(self):\n",
    "        self.assertEqual(luckBalance(3, [[5,1], [2,1], [1,1], [8,1], [10,0], [5,0]]), 29)\n",
    "        self.assertEqual(luckBalance(2, [[5,1], [4,0], [6,1], [2,1], [8,0]]), 21)\n",
    "        self.assertEqual(luckBalance(5, [[13,1], [10,1], [9,1], [8,1], [13,1], [12,1], [18,1], [13,1]]), 42)\n",
    "        \n",
    "        \n",
    "if __name__ == \"__main__\":\n",
    "    unittest.main(argv=['first-arg-is-ignored'], exit=False)"
   ]
  }
 ],
 "metadata": {
  "kernelspec": {
   "display_name": "Python 3",
   "language": "python",
   "name": "python3"
  },
  "language_info": {
   "codemirror_mode": {
    "name": "ipython",
    "version": 3
   },
   "file_extension": ".py",
   "mimetype": "text/x-python",
   "name": "python",
   "nbconvert_exporter": "python",
   "pygments_lexer": "ipython3",
   "version": "3.6.1"
  }
 },
 "nbformat": 4,
 "nbformat_minor": 2
}
