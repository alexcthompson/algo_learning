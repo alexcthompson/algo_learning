{
 "cells": [
  {
   "cell_type": "code",
   "execution_count": 68,
   "metadata": {},
   "outputs": [],
   "source": [
    "'''\n",
    "Given a list of lengths of sticks, find the maximum perimeter triangle that can be\n",
    "formed from within the list\n",
    "HackerRank: https://www.hackerrank.com/challenges/maximum-perimeter-triangle/forum\n",
    "\n",
    "Straight forward solution is to sort the array, then starting from the highest\n",
    "stick lengths, descend looking for a consecutive triplet (a,b,c) that satisfies\n",
    "a + b > c\n",
    "Can we do better with a small amount of code?\n",
    "\n",
    "Idea: Build a maxheap from the array.  Now follow the procedure from above, but using\n",
    "the maxheap to yield new elements to test.  In the worst case, this will be just as bad,\n",
    "but in better cases, this should be faster.\n",
    "'''\n",
    "\n",
    "import math\n",
    "import os\n",
    "import random\n",
    "import re\n",
    "import sys\n",
    "\n",
    "# Complete the maximumPerimeterTriangle function below.\n",
    "def maximumPerimeterTriangle(sticks):\n",
    "    sticks.sort()\n",
    "    i = len(sticks) - 1\n",
    "    \n",
    "    while i >= 2:\n",
    "        if sticks[i] < sticks[i-1] + sticks[i-2]:\n",
    "            return sticks[i-2:i+1]\n",
    "        \n",
    "        i -= 1\n",
    "        \n",
    "    return [-1]\n",
    "\n",
    "\n",
    "import heapq\n",
    "from collections import deque\n",
    "\n",
    "def maximumPerimeterTriangle2(sticks):\n",
    "    if len(sticks) < 3:\n",
    "        return -1\n",
    "    \n",
    "    neg_sticks = [-1 * stick for stick in sticks]\n",
    "    heapq.heapify(neg_sticks)\n",
    "    maxes = deque([heapq.heappop(neg_sticks)])\n",
    "    maxes.appendleft(heapq.heappop(neg_sticks))\n",
    "            \n",
    "    while len(neg_sticks) > 0:\n",
    "        maxes.appendleft(heapq.heappop(neg_sticks))\n",
    "\n",
    "        if maxes[2] > maxes[0] + maxes[1]:\n",
    "            return [-1 * m for m in maxes]\n",
    "        else:\n",
    "            maxes.pop()\n",
    "            \n",
    "    return [-1]    "
   ]
  },
  {
   "cell_type": "code",
   "execution_count": 69,
   "metadata": {},
   "outputs": [
    {
     "name": "stderr",
     "output_type": "stream",
     "text": [
      ".\n",
      "----------------------------------------------------------------------\n",
      "Ran 1 test in 0.003s\n",
      "\n",
      "OK\n"
     ]
    }
   ],
   "source": [
    "import unittest\n",
    "\n",
    "class max_perim_tri_tests(unittest.TestCase):\n",
    "    \n",
    "    def test_known_answers(self):\n",
    "        self.assertEqual(maximumPerimeterTriangle([1, 1, 1, 3, 3]), [1, 3, 3])\n",
    "        self.assertEqual(maximumPerimeterTriangle([1, 2, 3]), [-1])\n",
    "        self.assertEqual(maximumPerimeterTriangle([1, 1, 1, 2, 3, 5]), [1, 1, 1])\n",
    "        \n",
    "        big_example = [585864, 30960, 397193, 982469, 275301, 815633, 500552, 1980053, 4956083, 563585, 619528, 879603, 467531, 927141, 393527, 917709, 350333, 54529145, 7932125, 963208, 520081, 142767080, 499865, 582730, 512174, 20820393, 575285, 592595, 33708702, 364190, 289354, 351506, 995836, 228962, 326149, 2975979, 420118, 984155, 620289, 508798, 199101, 517109, 12888237, 88237927, 928368, 137821, 825743, 274447, 411970, 951836]\n",
    "        self.assertEqual(maximumPerimeterTriangle(big_example), [982469, 984155, 995836])\n",
    "        \n",
    "        self.assertEqual(maximumPerimeterTriangle2([1, 1, 1, 3, 3]), [1, 3, 3])\n",
    "        self.assertEqual(maximumPerimeterTriangle2([1, 2, 3]), [-1])\n",
    "        self.assertEqual(maximumPerimeterTriangle2([1, 1, 1, 2, 3, 5]), [1, 1, 1])\n",
    "        self.assertEqual(maximumPerimeterTriangle2(big_example), [982469, 984155, 995836])\n",
    "        \n",
    "        \n",
    "if __name__ == \"__main__\":\n",
    "    unittest.main(argv=['first-arg-is-ignored'], exit=False)"
   ]
  }
 ],
 "metadata": {
  "kernelspec": {
   "display_name": "Python 3",
   "language": "python",
   "name": "python3"
  },
  "language_info": {
   "codemirror_mode": {
    "name": "ipython",
    "version": 3
   },
   "file_extension": ".py",
   "mimetype": "text/x-python",
   "name": "python",
   "nbconvert_exporter": "python",
   "pygments_lexer": "ipython3",
   "version": "3.6.1"
  }
 },
 "nbformat": 4,
 "nbformat_minor": 2
}
