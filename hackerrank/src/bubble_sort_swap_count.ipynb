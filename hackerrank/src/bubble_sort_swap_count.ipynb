{
 "cells": [
  {
   "cell_type": "code",
   "execution_count": 12,
   "metadata": {
    "collapsed": true
   },
   "outputs": [],
   "source": [
    "'''\n",
    "Bubble sort an array, counting the swaps along the way\n",
    "Hackerrank: https://www.hackerrank.com/challenges/ctci-bubble-sort/problem\n",
    "'''\n",
    "\n",
    "import math\n",
    "import os\n",
    "import random\n",
    "import re\n",
    "import sys\n",
    "\n",
    "\n",
    "# Complete the countSwaps function below.\n",
    "def countSwaps(a):\n",
    "    swaps = 0\n",
    "    L = len(a)\n",
    "    \n",
    "    for i in range(L):\n",
    "        for j in range(L - 1):\n",
    "            if a[j] > a[j + 1]:\n",
    "                swaps += 1\n",
    "                a[j], a[j + 1] = a[j + 1], a[j]\n",
    "    \n",
    "    return swaps"
   ]
  },
  {
   "cell_type": "code",
   "execution_count": 13,
   "metadata": {},
   "outputs": [
    {
     "name": "stderr",
     "output_type": "stream",
     "text": [
      ".\n",
      "----------------------------------------------------------------------\n",
      "Ran 1 test in 0.001s\n",
      "\n",
      "OK\n"
     ]
    }
   ],
   "source": [
    "import unittest\n",
    "\n",
    "class swap_tests(unittest.TestCase):\n",
    "    \n",
    "    def test_known_results(self):\n",
    "        self.assertEqual(countSwaps([3,2,1]), 3)\n",
    "        self.assertEqual(countSwaps([1,2,3]), 0)\n",
    "        self.assertEqual(countSwaps([4,2,3,1]), 5)\n",
    "        \n",
    "\n",
    "if __name__ == '__main__':\n",
    "    unittest.main(argv=['first-arg-is-ignored'], exit=False)"
   ]
  }
 ],
 "metadata": {
  "kernelspec": {
   "display_name": "Python 3",
   "language": "python",
   "name": "python3"
  },
  "language_info": {
   "codemirror_mode": {
    "name": "ipython",
    "version": 3
   },
   "file_extension": ".py",
   "mimetype": "text/x-python",
   "name": "python",
   "nbconvert_exporter": "python",
   "pygments_lexer": "ipython3",
   "version": "3.6.1"
  }
 },
 "nbformat": 4,
 "nbformat_minor": 2
}
