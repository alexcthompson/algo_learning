{
 "cells": [
  {
   "cell_type": "code",
   "execution_count": 24,
   "metadata": {
    "collapsed": true
   },
   "outputs": [],
   "source": [
    "'''\n",
    "given a list of cities, the graph of obstructed roads connecting them, the cost to build\n",
    "a library, and the cost to un-obstruct a road, return the minimum cost to grant everyone\n",
    "access to libraries\n",
    "HackerRank: https://www.hackerrank.com/challenges/torque-and-development/problem\n",
    "'''\n",
    "\n",
    "import math\n",
    "import os\n",
    "import random\n",
    "import re\n",
    "import sys\n",
    "\n",
    "from collections import defaultdict\n",
    "\n",
    "class road_map():\n",
    "    \n",
    "    def __init__(self, n, c_lib, c_road, cities):\n",
    "        self.city_list = set(range(1, n+1))\n",
    "        self.cost_libs = c_lib\n",
    "        self.cost_roads = c_road\n",
    "        self.adjacency = defaultdict(set)\n",
    "        \n",
    "        for city1, city2 in cities:\n",
    "            self.adjacency[city1].add(city2)\n",
    "            self.adjacency[city2].add(city1)\n",
    "        \n",
    "    def count_connected_components(self):\n",
    "        to_visit = self.city_list\n",
    "        \n",
    "        count = 0\n",
    "        \n",
    "        while len(to_visit) > 0:\n",
    "            current_node = to_visit.pop()\n",
    "            \n",
    "            connected = [city in to_visit if city in self.adjacency[current_node]]\n",
    "            while len(connected) > 0:\n",
    "                city = connected[0]\n",
    "                to_visit.remove(city)\n",
    "                \n",
    "                # add items in to_visit that are connected to city\n",
    "            \n",
    "\n",
    "# Complete the roadsAndLibraries function below.\n",
    "def roadsAndLibraries(n, c_lib, c_road, cities):\n",
    "    '''\n",
    "    idea, if c_lib <= c_road, best cost is to build a library in every city\n",
    "    at cost c_lib * len(cities)\n",
    "    however, if c_road < c_lib, then the project can be accomplished for the cost\n",
    "    k * c_lib + n-k * c_road, where k is the number of connected components\n",
    "    '''\n",
    "    rm = road_map(n, c_lib, c_road, cities)\n",
    "\n",
    "    if c_lib <= c_road:\n",
    "        return n * c_lib\n",
    "    \n",
    "    return 0"
   ]
  },
  {
   "cell_type": "code",
   "execution_count": 25,
   "metadata": {},
   "outputs": [
    {
     "name": "stderr",
     "output_type": "stream",
     "text": [
      "F"
     ]
    },
    {
     "name": "stdout",
     "output_type": "stream",
     "text": [
      "defaultdict(<class 'set'>, {1: {2, 3}, 2: {1, 3}, 3: {1, 2}})\n"
     ]
    },
    {
     "name": "stderr",
     "output_type": "stream",
     "text": [
      "\n",
      "======================================================================\n",
      "FAIL: test_known_answers (__main__.rnl_tests)\n",
      "----------------------------------------------------------------------\n",
      "Traceback (most recent call last):\n",
      "  File \"<ipython-input-25-6ece2b735e93>\", line 6, in test_known_answers\n",
      "    self.assertEqual(roadsAndLibraries(3, 2, 1, [[1, 2], [3, 1], [2, 3]]), 4)\n",
      "AssertionError: 0 != 4\n",
      "\n",
      "----------------------------------------------------------------------\n",
      "Ran 1 test in 0.003s\n",
      "\n",
      "FAILED (failures=1)\n"
     ]
    }
   ],
   "source": [
    "import unittest\n",
    "\n",
    "class rnl_tests(unittest.TestCase):\n",
    "    \n",
    "    def test_known_answers(self):\n",
    "        self.assertEqual(roadsAndLibraries(3, 2, 1, [[1, 2], [3, 1], [2, 3]]), 4)\n",
    "        self.assertEqual(roadsAndLibraries(6, 2, 5, [[1, 3], [3, 4], [2, 4], [1, 2], [2, 3], [5, 6]]),\n",
    "                         12)\n",
    "        self.assertEqual(roadsAndLibraries(6, 2, 3, [[1, 2], [1, 3], [4, 5], [4, 6]]), 12)\n",
    "        self.assertEqual(roadsAndLibraries(5, 6, 1, [[1, 2], [1, 3], [1, 4]]), 15)\n",
    "        \n",
    "        \n",
    "if __name__ == \"__main__\":\n",
    "    unittest.main(argv=['first-arg-is-ignored'], exit=False)"
   ]
  },
  {
   "cell_type": "code",
   "execution_count": 28,
   "metadata": {},
   "outputs": [
    {
     "data": {
      "text/plain": [
       "3"
      ]
     },
     "execution_count": 28,
     "metadata": {},
     "output_type": "execute_result"
    }
   ],
   "source": [
    "b = [1,2,3]\n",
    "b.pop()"
   ]
  },
  {
   "cell_type": "code",
   "execution_count": 29,
   "metadata": {},
   "outputs": [
    {
     "data": {
      "text/plain": [
       "[1, 2]"
      ]
     },
     "execution_count": 29,
     "metadata": {},
     "output_type": "execute_result"
    }
   ],
   "source": [
    "b"
   ]
  },
  {
   "cell_type": "code",
   "execution_count": null,
   "metadata": {
    "collapsed": true
   },
   "outputs": [],
   "source": []
  }
 ],
 "metadata": {
  "kernelspec": {
   "display_name": "Python 3",
   "language": "python",
   "name": "python3"
  },
  "language_info": {
   "codemirror_mode": {
    "name": "ipython",
    "version": 3
   },
   "file_extension": ".py",
   "mimetype": "text/x-python",
   "name": "python",
   "nbconvert_exporter": "python",
   "pygments_lexer": "ipython3",
   "version": "3.6.1"
  }
 },
 "nbformat": 4,
 "nbformat_minor": 2
}
