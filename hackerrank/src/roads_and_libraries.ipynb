{
 "cells": [
  {
   "cell_type": "code",
   "execution_count": 1,
   "metadata": {},
   "outputs": [],
   "source": [
    "'''\n",
    "given a list of cities, the graph of obstructed roads connecting them, the cost to build\n",
    "a library, and the cost to un-obstruct a road, return the minimum cost to grant everyone\n",
    "access to libraries\n",
    "HackerRank: https://www.hackerrank.com/challenges/torque-and-development/problem\n",
    "'''\n",
    "\n",
    "import math\n",
    "import os\n",
    "import random\n",
    "import re\n",
    "import sys\n",
    "\n",
    "from collections import defaultdict\n",
    "\n",
    "class road_map():\n",
    "    \n",
    "    def __init__(self, n, c_lib, c_road, cities):\n",
    "        self.n = n\n",
    "        self.cost_libs = c_lib\n",
    "        self.cost_roads = c_road\n",
    "        self.adjacency = defaultdict(set)\n",
    "        \n",
    "        for city1, city2 in cities:\n",
    "            self.adjacency[city1].add(city2)\n",
    "            self.adjacency[city2].add(city1)\n",
    "        \n",
    "    def count_connected_components(self):\n",
    "        to_visit = [0] * (self.n + 1)\n",
    "        \n",
    "        count = 0\n",
    "        \n",
    "        for i in range(1, self.n + 1):\n",
    "            if to_visit[i] == 0:\n",
    "                count += 1\n",
    "                to_visit[i] = 1\n",
    "            \n",
    "                connected = {city for city in self.adjacency[i] if to_visit[city] == 0}\n",
    "            \n",
    "                while len(connected) > 0:\n",
    "                    connected_city = connected.pop()\n",
    "                    to_visit[connected_city] = 1\n",
    "\n",
    "                    connected |= {city for city in self.adjacency[connected_city] if to_visit[city] == 0}\n",
    "                \n",
    "        return count\n",
    "            \n",
    "\n",
    "# Complete the roadsAndLibraries function below.\n",
    "def roadsAndLibraries(n, c_lib, c_road, cities):\n",
    "    '''\n",
    "    idea, if c_lib <= c_road, best cost is to build a library in every city\n",
    "    at cost c_lib * len(cities)\n",
    "    however, if c_road < c_lib, then the project can be accomplished for the cost\n",
    "    k * c_lib + n-k * c_road, where k is the number of connected components\n",
    "    '''\n",
    "    \n",
    "    if c_lib <= c_road:\n",
    "        return n * c_lib\n",
    "\n",
    "    rm = road_map(n, c_lib, c_road, cities)\n",
    "    num_connected_components = rm.count_connected_components()\n",
    "    \n",
    "    return c_road * (n - num_connected_components) + c_lib * (num_connected_components)"
   ]
  },
  {
   "cell_type": "code",
   "execution_count": 2,
   "metadata": {},
   "outputs": [
    {
     "name": "stderr",
     "output_type": "stream",
     "text": [
      ".\n",
      "----------------------------------------------------------------------\n",
      "Ran 1 test in 0.003s\n",
      "\n",
      "OK\n"
     ]
    }
   ],
   "source": [
    "import unittest\n",
    "\n",
    "# %%timeit\n",
    "class rnl_tests(unittest.TestCase):\n",
    "    \n",
    "    def test_known_answers(self):\n",
    "        self.assertEqual(roadsAndLibraries(3, 2, 1, [[1, 2], [3, 1], [2, 3]]), 4)\n",
    "        self.assertEqual(roadsAndLibraries(6, 2, 5, [[1, 3], [3, 4], [2, 4], [1, 2], [2, 3], [5, 6]]),\n",
    "                         12)\n",
    "        self.assertEqual(roadsAndLibraries(6, 2, 3, [[1, 2], [1, 3], [4, 5], [4, 6]]), 12)\n",
    "        self.assertEqual(roadsAndLibraries(5, 6, 1, [[1, 2], [1, 3], [1, 4]]), 15)\n",
    "        \n",
    "        \n",
    "if __name__ == \"__main__\":\n",
    "    unittest.main(argv=['first-arg-is-ignored'], exit=False)"
   ]
  }
 ],
 "metadata": {
  "kernelspec": {
   "display_name": "Python 3",
   "language": "python",
   "name": "python3"
  },
  "language_info": {
   "codemirror_mode": {
    "name": "ipython",
    "version": 3
   },
   "file_extension": ".py",
   "mimetype": "text/x-python",
   "name": "python",
   "nbconvert_exporter": "python",
   "pygments_lexer": "ipython3",
   "version": "3.6.1"
  }
 },
 "nbformat": 4,
 "nbformat_minor": 2
}
