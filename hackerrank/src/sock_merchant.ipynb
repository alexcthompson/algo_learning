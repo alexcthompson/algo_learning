{
 "cells": [
  {
   "cell_type": "code",
   "execution_count": 67,
   "metadata": {},
   "outputs": [
    {
     "name": "stderr",
     "output_type": "stream",
     "text": [
      "test_counts (__main__.sock_tests) ... ok\n",
      "test_functionality (__main__.sock_tests) ... ok\n",
      "test_storage (__main__.sock_tests) ... ok\n",
      "\n",
      "----------------------------------------------------------------------\n",
      "Ran 3 tests in 0.012s\n",
      "\n",
      "OK\n"
     ]
    }
   ],
   "source": [
    "# https://www.hackerrank.com/challenges/sock-merchant/problem\n",
    "\n",
    "import math\n",
    "import random\n",
    "import unittest\n",
    "\n",
    "from collections import defaultdict\n",
    "from functools import reduce\n",
    "from itertools import accumulate\n",
    "\n",
    "class Sox():\n",
    "    def __init__(self, sock_list):\n",
    "        self.sock_list = sock_list\n",
    "        self.sock_counts = defaultdict(int)\n",
    "        \n",
    "    \n",
    "    def get_sock_counts(self):\n",
    "        if len(self.sock_counts) == 0 and len(self.sock_list) != 0:\n",
    "            for sock_color in self.sock_list:\n",
    "                self.sock_counts[sock_color] += 1\n",
    "        \n",
    "        return self.sock_counts\n",
    "\n",
    "    \n",
    "    def total_sock_pairs(self):\n",
    "        self.get_sock_counts()  # run this to make sure the counts are initialized\n",
    "        \n",
    "        return reduce(lambda x, y: x + (y // 2), self.sock_counts.values(), 0)\n",
    "\n",
    "\n",
    "class sock_tests(unittest.TestCase):\n",
    "\n",
    "    def setUp(self):\n",
    "        self.sock_list = [10, 20, 20, 10, 10, 30, 50, 10, 20]\n",
    "        self.socks = Sox(self.sock_list)\n",
    "\n",
    "        # ground truth\n",
    "        self.gt_sock_count = {\n",
    "            10: 4,\n",
    "            20: 3,\n",
    "            30: 1,\n",
    "            50: 1\n",
    "        }\n",
    "        self.gt_total_sock_pairs = 3\n",
    "\n",
    "\n",
    "    def test_storage(self):\n",
    "        self.assertEqual(self.socks.sock_list, self.sock_list)\n",
    "        \n",
    "    \n",
    "    def test_counts(self):\n",
    "        self.assertEqual(self.socks.get_sock_counts(), self.gt_sock_count)\n",
    "       \n",
    "    \n",
    "    def test_functionality(self):\n",
    "        self.assertEqual(self.socks.total_sock_pairs(), self.gt_total_sock_pairs)\n",
    "        \n",
    "        \n",
    "if __name__ == '__main__':\n",
    "    unittest.main(argv=['first-arg-is-ignored'], verbosity=2, exit=False)"
   ]
  }
 ],
 "metadata": {
  "kernelspec": {
   "display_name": "Python 3",
   "language": "python",
   "name": "python3"
  },
  "language_info": {
   "codemirror_mode": {
    "name": "ipython",
    "version": 3
   },
   "file_extension": ".py",
   "mimetype": "text/x-python",
   "name": "python",
   "nbconvert_exporter": "python",
   "pygments_lexer": "ipython3",
   "version": "3.6.1"
  }
 },
 "nbformat": 4,
 "nbformat_minor": 2
}
