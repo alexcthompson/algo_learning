{
 "cells": [
  {
   "cell_type": "markdown",
   "metadata": {},
   "source": [
    "# LeetCode \\#11. Container With Most Water\n",
    "\n",
    "Given n non-negative integers $a_1, a_2, \\ldots, a_n$, where each represents a point at coordinate $(i, a_i)$. $n$ vertical lines are drawn such that the two endpoints of line $i$ is at $(i, a_i)$ and $(i, 0)$. Find two lines, which together with $x$-axis forms a container, such that the container contains the most water.\n",
    "\n",
    "**Note:** You may not slant the container and n is at least 2.\n",
    "\n",
    "![image of container](https://s3-lc-upload.s3.amazonaws.com/uploads/2018/07/17/question_11.jpg)\n",
    "\n",
    "The above vertical lines are represented by array `[1,8,6,2,5,4,8,3,7]`. In this case, the max area of water (blue section) the container can contain is `49`.\n",
    "\n",
    "### Example:\n",
    "\n",
    "```\n",
    "Input: [1,8,6,2,5,4,8,3,7]\n",
    "Output: 49\n",
    "```"
   ]
  },
  {
   "cell_type": "code",
   "execution_count": 8,
   "metadata": {},
   "outputs": [],
   "source": [
    "from typing import List\n",
    "\n",
    "class Solution:\n",
    "    def maxArea(self, height: List[int]) -> int:\n",
    "        if len(height) <= 1:\n",
    "            return 0\n",
    "        elif len(height) == 2:\n",
    "            return min(height[0], height[1])\n",
    "        \n",
    "        left = 0\n",
    "        left_height = 0\n",
    "        right = len(height) - 1\n",
    "        right_height = 0\n",
    "        \n",
    "        max_area = 0\n",
    "        \n",
    "        while left < right:\n",
    "            left_height = max(height[left], left_height)\n",
    "            right_height = max(height[right], right_height)\n",
    "            max_area = max(max_area, (right - left) * min(left_height, right_height))\n",
    "            \n",
    "            if left_height < right_height:\n",
    "                while height[left] <= left_height and left < right:\n",
    "                    left += 1\n",
    "\n",
    "            else:\n",
    "                while height[right] <= right_height and left < right:\n",
    "                    right -= 1\n",
    "              \n",
    "        return max_area"
   ]
  },
  {
   "cell_type": "code",
   "execution_count": 9,
   "metadata": {},
   "outputs": [
    {
     "name": "stderr",
     "output_type": "stream",
     "text": [
      ".\n",
      "----------------------------------------------------------------------\n",
      "Ran 1 test in 0.001s\n",
      "\n",
      "OK\n"
     ]
    }
   ],
   "source": [
    "import unittest\n",
    "\n",
    "\n",
    "class AllTests(unittest.TestCase):\n",
    "    \n",
    "    def setUp(self):\n",
    "        self.s = Solution()\n",
    "        \n",
    "    def test_known_examples(self):\n",
    "        self.assertEqual(49, self.s.maxArea([1,8,6,2,5,4,8,3,7]))\n",
    "        \n",
    "        \n",
    "if __name__ == \"__main__\":\n",
    "    unittest.main(argv=['first-arg-is-ignored'], exit=False)"
   ]
  }
 ],
 "metadata": {
  "kernelspec": {
   "display_name": "Python 3",
   "language": "python",
   "name": "python3"
  },
  "language_info": {
   "codemirror_mode": {
    "name": "ipython",
    "version": 3
   },
   "file_extension": ".py",
   "mimetype": "text/x-python",
   "name": "python",
   "nbconvert_exporter": "python",
   "pygments_lexer": "ipython3",
   "version": "3.6.1"
  }
 },
 "nbformat": 4,
 "nbformat_minor": 2
}
