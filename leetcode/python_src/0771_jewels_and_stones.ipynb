{
 "cells": [
  {
   "cell_type": "markdown",
   "metadata": {},
   "source": [
    "# [LeetCode \\#771. Jewels and Stones](https://leetcode.com/problems/jewels-and-stones/)\n",
    "\n",
    "You're given strings `J` representing the types of stones that are jewels, and `S` representing the stones you have.  Each character in `S` is a type of stone you have.  You want to know how many of the stones you have are also jewels.\n",
    "\n",
    "The letters in `J` are guaranteed distinct, and all characters in `J` and `S` are letters. Letters are case sensitive, so `\"a\"` is considered a different type of stone from `\"A\"`.\n",
    "\n",
    "### Example 1:\n",
    "\n",
    "```\n",
    "Input: J = \"aA\", S = \"aAAbbbb\"\n",
    "Output: 3\n",
    "```\n",
    "\n",
    "### Example 2:\n",
    "\n",
    "```\n",
    "Input: J = \"z\", S = \"ZZ\"\n",
    "Output: 0\n",
    "```\n",
    "\n",
    "#### Note:\n",
    "\n",
    "- `S` and `J` will consist of letters and have length at most 50.\n",
    "- The characters in `J` are distinct.\n"
   ]
  },
  {
   "cell_type": "code",
   "execution_count": 13,
   "metadata": {
    "collapsed": true
   },
   "outputs": [],
   "source": [
    "class Solution:\n",
    "    def numJewelsInStones(self, J: str, S: str) -> int:\n",
    "        if len(J) == 0 or len(S) == 0:\n",
    "            return 0\n",
    "        \n",
    "        jewels = set()\n",
    "        \n",
    "        for jewel in J:\n",
    "            jewels.add(jewel)\n",
    "\n",
    "        jewel_count = 0\n",
    "        \n",
    "        for stone in S:\n",
    "            if stone in jewels:\n",
    "                jewel_count += 1\n",
    "                \n",
    "        return jewel_count"
   ]
  },
  {
   "cell_type": "code",
   "execution_count": 14,
   "metadata": {},
   "outputs": [
    {
     "name": "stderr",
     "output_type": "stream",
     "text": [
      ".\n",
      "----------------------------------------------------------------------\n",
      "Ran 1 test in 0.001s\n",
      "\n",
      "OK\n"
     ]
    }
   ],
   "source": [
    "import unittest\n",
    "\n",
    "\n",
    "class AllTests(unittest.TestCase):\n",
    "\n",
    "    def setUp(self):\n",
    "        self.s = Solution()\n",
    "        \n",
    "    def test_known_results(self):\n",
    "        self.assertEqual(3, self.s.numJewelsInStones(J = \"aA\", S = \"aAAbbbb\"))\n",
    "        self.assertEqual(0, self.s.numJewelsInStones(J = \"z\", S = \"ZZ\"))\n",
    "        \n",
    "\n",
    "if __name__ == \"__main__\":\n",
    "    unittest.main(argv=['first-arg-is-ignored'], exit=False)"
   ]
  }
 ],
 "metadata": {
  "kernelspec": {
   "display_name": "Python 3",
   "language": "python",
   "name": "python3"
  },
  "language_info": {
   "codemirror_mode": {
    "name": "ipython",
    "version": 3
   },
   "file_extension": ".py",
   "mimetype": "text/x-python",
   "name": "python",
   "nbconvert_exporter": "python",
   "pygments_lexer": "ipython3",
   "version": "3.6.1"
  }
 },
 "nbformat": 4,
 "nbformat_minor": 2
}
