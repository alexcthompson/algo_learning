{
 "cells": [
  {
   "cell_type": "markdown",
   "metadata": {},
   "source": [
    "# [Valid Parentheses](https://leetcode.com/problems/valid-parentheses/)\n",
    "\n",
    "Given a string containing just the characters `'('`, `')'`, `'{'`, `'}'`, `'['` and `']'`, determine if the input string is valid.\n",
    "\n",
    "An input string is valid if:\n",
    "\n",
    "1. Open brackets must be closed by the same type of brackets.\n",
    "2. Open brackets must be closed in the correct order.\n",
    "\n",
    "Note that an empty string is also considered valid."
   ]
  },
  {
   "cell_type": "code",
   "execution_count": 20,
   "metadata": {
    "collapsed": true
   },
   "outputs": [],
   "source": [
    "class Solution:\n",
    "    def __init__(self):\n",
    "        self.paren_matches = {\n",
    "            ')': '(',\n",
    "            '}': '{',\n",
    "            ']': '[',\n",
    "        }\n",
    "    \n",
    "    def isValid(self, s):\n",
    "        collapsed = []\n",
    "        \n",
    "        for paren in s:\n",
    "            if paren in self.paren_matches.values():\n",
    "                collapsed.append(paren)\n",
    "            \n",
    "            elif len(collapsed) == 0:\n",
    "                return False\n",
    "            \n",
    "            elif paren in self.paren_matches:\n",
    "                if collapsed[-1] == self.paren_matches[paren]:\n",
    "                    collapsed.pop()\n",
    "                else:\n",
    "                    return False\n",
    "                \n",
    "            # invalid character\n",
    "            else:\n",
    "                return False\n",
    "        \n",
    "        if len(collapsed) > 0:\n",
    "            return False\n",
    "        \n",
    "        else:\n",
    "            return True"
   ]
  },
  {
   "cell_type": "code",
   "execution_count": 22,
   "metadata": {},
   "outputs": [
    {
     "name": "stderr",
     "output_type": "stream",
     "text": [
      ".\n",
      "----------------------------------------------------------------------\n",
      "Ran 1 test in 0.001s\n",
      "\n",
      "OK\n"
     ]
    }
   ],
   "source": [
    "import unittest\n",
    "\n",
    "\n",
    "class test_parens(unittest.TestCase):\n",
    "    \n",
    "    def test_known_solns(self):\n",
    "        x = Solution()\n",
    "\n",
    "        self.assertEqual(x.isValid('()'), True)\n",
    "        self.assertEqual(x.isValid('()[]{}'), True)\n",
    "        self.assertEqual(x.isValid('(]'), False)\n",
    "        self.assertEqual(x.isValid('([)]'), False)\n",
    "        self.assertEqual(x.isValid('{[]}'), True)\n",
    "        self.assertEqual(x.isValid(''), True)\n",
    "        self.assertEqual(x.isValid('()}'), False)\n",
    "                     \n",
    "\n",
    "if __name__ == '__main__':\n",
    "    unittest.main(argv=['first-arg-is-ignored'], exit=False)"
   ]
  }
 ],
 "metadata": {
  "kernelspec": {
   "display_name": "Python 3",
   "language": "python",
   "name": "python3"
  },
  "language_info": {
   "codemirror_mode": {
    "name": "ipython",
    "version": 3
   },
   "file_extension": ".py",
   "mimetype": "text/x-python",
   "name": "python",
   "nbconvert_exporter": "python",
   "pygments_lexer": "ipython3",
   "version": "3.6.1"
  }
 },
 "nbformat": 4,
 "nbformat_minor": 2
}
