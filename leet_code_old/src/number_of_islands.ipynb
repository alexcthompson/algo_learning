{
 "cells": [
  {
   "cell_type": "markdown",
   "metadata": {},
   "source": [
    "# [LeetCode: Number of Islands](https://leetcode.com/problems/number-of-islands/)\n",
    "\n",
    "Given a 2d grid map of `'1'`s (land) and `'0'`s (water), count the number of islands. An island is surrounded by water and is formed by connecting adjacent lands horizontally or vertically. You may assume all four edges of the grid are all surrounded by water.\n",
    "\n",
    "#### Example 1:\n",
    "```\n",
    "Input:\n",
    "11110\n",
    "11010\n",
    "11000\n",
    "00000\n",
    "\n",
    "Output: 1\n",
    "```\n",
    "#### Example 2:\n",
    "```\n",
    "Input:\n",
    "11000\n",
    "11000\n",
    "00100\n",
    "00011\n",
    "\n",
    "Output: 3\n",
    "```"
   ]
  },
  {
   "cell_type": "markdown",
   "metadata": {},
   "source": [
    "# Approach\n",
    "\n",
    "Essentially scan the map, when you hit a `1`, search the graph of adjacent nodes to discover the full island.  The best you can do is $\\mathcal{O}(n * m)$, where the map is of dimension $(n,m)$, because you must visit every node.  There are easy counterexamples to shortcuts, for instance consider a checkboard pattern of land and sea.  You can add or subtract land to this pattern and change the island count seriously, so you must actually check the land/sea status of each entry.\n",
    "\n",
    "## Procedure:\n",
    "\n",
    "- Initialize:\n",
    "    - `island_count = 0`\n",
    "    - `visited = set()`\n",
    "- Define a function `adajacent(node)` that, given node coordinates, returns the list of valid, unvisited node coordinates for nodes that are adjacent to the node.\n",
    "- Start scanning through the array left-to-right, top-to-bottom.  As you hit `0`s, add the coordinates to a list of visited nodes.\n",
    "- If you hit nodes which have already been visited, move on, whether they are `1` or `0`.\n",
    "- If you hit an unvisited `1` in location `node`, run the following sub routine to map out this uncharted island:\n",
    "    - increment `island_count`\n",
    "    - initialize `open = [node]`\n",
    "    - WHILE `open` is nonempty:\n",
    "        - `new_node = open.pop()`\n",
    "        - if `new_node` is a `1`, add `adjacent(new_node)` to `open`\n",
    "        - add `new_node` to visited\n",
    "        - This will search out the full island\n",
    "- Return to scanning for land."
   ]
  },
  {
   "cell_type": "code",
   "execution_count": 1,
   "metadata": {
    "collapsed": true
   },
   "outputs": [],
   "source": [
    "from itertools import product\n",
    "\n",
    "def add_coords(x1, x2):\n",
    "    return (x1[0] + x2[0], x1[1] + x2[1])\n",
    "\n",
    "class Solution:\n",
    "    def adjacent(self, node_coords):\n",
    "        res = []\n",
    "\n",
    "        for move in [[0,1], [0,-1], [1,0], [-1,0]]:\n",
    "            adj_node = add_coords(node_coords, move)\n",
    "            if (0 <= adj_node[0] < self.dims[0] and\n",
    "                0 <= adj_node[1] < self.dims[1] and\n",
    "                adj_node not in self.visited):\n",
    "                res.append(adj_node)\n",
    "                \n",
    "        return res\n",
    "    \n",
    "    def numIslands(self, grid):\n",
    "        \"\"\"\n",
    "        :type grid: List[List[str]]\n",
    "        :rtype: int\n",
    "        \"\"\"\n",
    "        if len(grid) == 0:\n",
    "            return 0\n",
    "        \n",
    "        self.dims = [len(grid), len(grid[0])]\n",
    "        self.island_count = 0\n",
    "        self.visited = set()\n",
    "        self.coords = product(range(self.dims[0]), range(self.dims[1]))\n",
    "        \n",
    "        for node_coords in self.coords:\n",
    "            if node_coords in self.visited:\n",
    "                continue\n",
    "            elif grid[node_coords[0]][node_coords[1]] == '0':\n",
    "                self.visited.add(node_coords)\n",
    "            else:  # node is a 1 and unvisited\n",
    "                self.island_count += 1\n",
    "                self.open = [node_coords]\n",
    "                \n",
    "                while len(self.open) > 0:\n",
    "                    search_node_coords = self.open.pop()\n",
    "                    if grid[search_node_coords[0]][search_node_coords[1]] == '1':\n",
    "                        self.open.extend(self.adjacent(search_node_coords))\n",
    "                        self.visited.add(search_node_coords)\n",
    "        \n",
    "        return self.island_count"
   ]
  },
  {
   "cell_type": "code",
   "execution_count": 2,
   "metadata": {},
   "outputs": [
    {
     "name": "stderr",
     "output_type": "stream",
     "text": [
      ".\n",
      "----------------------------------------------------------------------\n",
      "Ran 1 test in 0.003s\n",
      "\n",
      "OK\n"
     ]
    }
   ],
   "source": [
    "import unittest\n",
    "\n",
    "\n",
    "class island_tests(unittest.TestCase):\n",
    "    \n",
    "    def test_known_examples(self):\n",
    "        x = Solution()\n",
    "        \n",
    "        island = []\n",
    "        island = [[str(x) for x in sublist] for sublist in island]\n",
    "        self.assertEqual(x.numIslands(island), 0)\n",
    "        \n",
    "        island = [[1,1,1,1,0],\n",
    "                  [1,1,0,1,0],\n",
    "                  [1,1,0,0,0],\n",
    "                  [0,0,0,0,0]]\n",
    "        island = [[str(x) for x in sublist] for sublist in island]\n",
    "        self.assertEqual(x.numIslands(island), 1)\n",
    "        \n",
    "        island = [[1,1,0,0,0],\n",
    "                  [1,1,0,0,0],\n",
    "                  [0,0,1,0,0],\n",
    "                  [0,0,0,1,1]]\n",
    "        \n",
    "        island = [[str(x) for x in sublist] for sublist in island]\n",
    "        self.assertEqual(x.numIslands(island), 3)\n",
    "\n",
    "\n",
    "if __name__ == \"__main__\":\n",
    "    unittest.main(argv=['first-arg-is-ignored'], exit=False)"
   ]
  }
 ],
 "metadata": {
  "kernelspec": {
   "display_name": "Python 3",
   "language": "python",
   "name": "python3"
  },
  "language_info": {
   "codemirror_mode": {
    "name": "ipython",
    "version": 3
   },
   "file_extension": ".py",
   "mimetype": "text/x-python",
   "name": "python",
   "nbconvert_exporter": "python",
   "pygments_lexer": "ipython3",
   "version": "3.6.1"
  }
 },
 "nbformat": 4,
 "nbformat_minor": 2
}
