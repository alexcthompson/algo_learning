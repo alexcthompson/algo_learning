{
 "cells": [
  {
   "cell_type": "markdown",
   "metadata": {},
   "source": [
    "# [Leetcode \\#76. Minimum Window Substring](https://leetcode.com/problems/minimum-window-substring/)\n",
    "\n",
    "Given a string S and a string T, find the minimum window in S which will contain all the characters in T in complexity O(n).\n",
    "\n",
    "### Example:\n",
    "\n",
    "```\n",
    "Input: S = \"ADOBECODEBANC\", T = \"ABC\"\n",
    "Output: \"BANC\"\n",
    "```\n",
    "\n",
    "### Note:\n",
    "\n",
    "- If there is no such window in S that covers all characters in T, return the empty string \"\".\n",
    "- If there is such window, you are guaranteed that there will always be only one unique minimum window in S."
   ]
  },
  {
   "cell_type": "markdown",
   "metadata": {},
   "source": [
    "### Ugly, this needs a refactor"
   ]
  },
  {
   "cell_type": "code",
   "execution_count": 25,
   "metadata": {},
   "outputs": [],
   "source": [
    "from collections import defaultdict\n",
    "\n",
    "class Solution:\n",
    "    def minWindow(self, s: str, t: str) -> str:\n",
    "        if s == \"\":\n",
    "            return \"\"\n",
    "        \n",
    "        left = 0\n",
    "        right = 0\n",
    "        best_len = len(s) + 1\n",
    "        best_left = -1\n",
    "        best_right = -1\n",
    "        \n",
    "        t_counts = defaultdict(int)\n",
    "        t_unique = 0\n",
    "        # build dictionary char counts for t\n",
    "        for c in t:\n",
    "            t_counts[c] += 1\n",
    "            \n",
    "        t_unique = len(t_counts.keys())        \n",
    "        cur_counts = defaultdict(int)\n",
    "        cur_required = 0\n",
    "        \n",
    "        while right < len(s):            \n",
    "            # TODO - could refactor this since it is only needed for right == 0\n",
    "            if s[right] in t_counts.keys():\n",
    "                cur_counts[s[right]] += 1\n",
    "                \n",
    "                if cur_counts[s[right]] == t_counts[s[right]]:\n",
    "                    cur_required += 1\n",
    "                    \n",
    "            # check if this one is a match\n",
    "            if cur_required == t_unique and right - left + 1 < best_len:\n",
    "                best_len = right - left + 1\n",
    "                best_left = left\n",
    "                best_right = right\n",
    "            \n",
    "            # move left if it is\n",
    "            while cur_required == t_unique:\n",
    "                # decrement cur_counts\n",
    "                if cur_counts[s[left]] == t_counts[s[left]]:\n",
    "                    cur_required -= 1\n",
    "\n",
    "                cur_counts[s[left]] -= 1\n",
    "                left += 1\n",
    "                \n",
    "            while (left < len(s) and\n",
    "                   (s[left] not in t_counts.keys() or\n",
    "                    cur_counts[s[left]] > t_counts[s[left]])\n",
    "                  ):\n",
    "                cur_counts[s[left]] -= 1\n",
    "                left += 1\n",
    "            \n",
    "            # move right to next elem from t\n",
    "            right += 1\n",
    "            \n",
    "            while right < len(s) and s[right] not in t_counts.keys():\n",
    "                right += 1\n",
    "            \n",
    "        if best_left == -1:\n",
    "            return \"\"\n",
    "            \n",
    "        return s[best_left : best_right + 1]"
   ]
  },
  {
   "cell_type": "code",
   "execution_count": 26,
   "metadata": {},
   "outputs": [
    {
     "name": "stderr",
     "output_type": "stream",
     "text": [
      "."
     ]
    },
    {
     "name": "stdout",
     "output_type": "stream",
     "text": [
      "A\n",
      "ADOB\n",
      "ADOBEC\n",
      "BECODEB\n",
      "CODEBA\n",
      "BANC\n",
      "a\n",
      "a\n",
      "b\n"
     ]
    },
    {
     "name": "stderr",
     "output_type": "stream",
     "text": [
      "\n",
      "----------------------------------------------------------------------\n",
      "Ran 1 test in 0.004s\n",
      "\n",
      "OK\n"
     ]
    }
   ],
   "source": [
    "import unittest\n",
    "\n",
    "\n",
    "class AllTests(unittest.TestCase):\n",
    "    def setUp(self):\n",
    "        self.solve = Solution()\n",
    "        \n",
    "    \n",
    "    def test_known_examples(self):\n",
    "        self.assertEqual(\"BANC\", self.solve.minWindow(s = \"ADOBECODEBANC\", t = \"ABC\"))\n",
    "        self.assertEqual(\"a\", self.solve.minWindow(s = \"a\", t = \"a\"))\n",
    "        self.assertEqual(\"b\", self.solve.minWindow(s = \"ab\", t = \"b\"))\n",
    "        \n",
    "\n",
    "if __name__ == \"__main__\":\n",
    "    unittest.main(argv=['first-arg-is-ignored'], exit=False)"
   ]
  },
  {
   "cell_type": "code",
   "execution_count": 8,
   "metadata": {},
   "outputs": [
    {
     "data": {
      "text/plain": [
       "'3.6.1 |Anaconda custom (x86_64)| (default, May 11 2017, 13:04:09) \\n[GCC 4.2.1 Compatible Apple LLVM 6.0 (clang-600.0.57)]'"
      ]
     },
     "execution_count": 8,
     "metadata": {},
     "output_type": "execute_result"
    }
   ],
   "source": [
    "import sys\n",
    "\n",
    "sys.version"
   ]
  },
  {
   "cell_type": "code",
   "execution_count": null,
   "metadata": {
    "collapsed": true
   },
   "outputs": [],
   "source": []
  }
 ],
 "metadata": {
  "kernelspec": {
   "display_name": "Python 3",
   "language": "python",
   "name": "python3"
  },
  "language_info": {
   "codemirror_mode": {
    "name": "ipython",
    "version": 3
   },
   "file_extension": ".py",
   "mimetype": "text/x-python",
   "name": "python",
   "nbconvert_exporter": "python",
   "pygments_lexer": "ipython3",
   "version": "3.6.1"
  }
 },
 "nbformat": 4,
 "nbformat_minor": 2
}
